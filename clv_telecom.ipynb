{
 "cells": [
  {
   "cell_type": "code",
   "execution_count": 18,
   "metadata": {},
   "outputs": [],
   "source": [
    "import pandas\n",
    "import numpy as np\n",
    "\n",
    "files = [\"data.csv\", \"data_all.csv\", \"panelgretl.csv\"]"
   ]
  },
  {
   "cell_type": "code",
   "execution_count": 19,
   "metadata": {
    "scrolled": true
   },
   "outputs": [
    {
     "name": "stdout",
     "output_type": "stream",
     "text": [
      "\n",
      "data\n",
      "\n",
      "   subs    a1    a2    a3    a4    a5      a6   af7   af8   af9   ...    clv4  \\\n",
      "0     1  2090  1808  1844  4546  2020  2541.0  3034  3194  3354   ...    6427   \n",
      "1     2  3749  3448  3444  3548  3653  3593.0  3567  3565  3563   ...    4260   \n",
      "2     3  1013   979   975  1001   964   954.0   949   940   932   ...    2650   \n",
      "3     4  3355  5462  7198  6655  5385  5187.0  6379  6618  6858   ...    9626   \n",
      "4     5   847   847   847   853   847   847.0   849   849   849   ...    2253   \n",
      "\n",
      "    clv5   clv6  dclvf7  dclvf8  dclvf9  dclvf10  dclvf11  dclvf12  clvclv  \n",
      "0   5687   3829    4994    4775    4555     4335     4117     3903   26679  \n",
      "1   3821   3863    3481    3146    2843     2569     2321     2097   16457  \n",
      "2   1131   1219    1256    1071     909      768      644      537    5184  \n",
      "3  17401  18526   11357    9223    7382     5800     5423     5067   44253  \n",
      "4   4466  16050   12331   12711   12921    12987    12935    12785   76669  \n",
      "\n",
      "[5 rows x 78 columns]\n",
      "\n",
      "data_all\n",
      "\n",
      "   subs    a1    a2    a3    a4    a5      a6   af7   af8   af9   ...    clv4  \\\n",
      "0     1  2090  1808  1844  4546  2020  2541.0  3034  3194  3354   ...    6427   \n",
      "1     2  3749  3448  3444  3548  3653  3593.0  3567  3565  3563   ...    4260   \n",
      "2     3  1013   979   975  1001   964   954.0   949   940   932   ...    2650   \n",
      "3     4  3355  5462  7198  6655  5385  5187.0  6379  6618  6858   ...    9626   \n",
      "4     5   847   847   847   853   847   847.0   849   849   849   ...    2253   \n",
      "\n",
      "    clv5   clv6  dclvf7  dclvf8  dclvf9  dclvf10  dclvf11  dclvf12  clvclv  \n",
      "0   5687   3829    4994    4775    4555     4335     4117     3903   26679  \n",
      "1   3821   3863    3481    3146    2843     2569     2321     2097   16457  \n",
      "2   1131   1219    1256    1071     909      768      644      537    5184  \n",
      "3  17401  18526   11357    9223    7382     5800     5423     5067   44253  \n",
      "4   4466  16050   12331   12711   12921    12987    12935    12785   76669  \n",
      "\n",
      "[5 rows x 78 columns]\n",
      "\n",
      "panelgretl\n",
      "\n",
      "                          id,t,a,u,x,m,s,clvs,ch,clv\n",
      "0  1,1,2089.54,1502.98,872.77,1.344916111,0,4463....\n",
      "1  1,2,1807.63,1574.58,847.35,1.309403447,17.2446...\n",
      "2  1,3,1844.07,1980.53,313.53,1.277322453,114.134...\n",
      "3  1,4,4546.49,1797.33,84.75,1.291719118,150,6277...\n",
      "4  1,5,2019.74,3583.7,84.75,1.187016609,0,5687.00...\n"
     ]
    }
   ],
   "source": [
    "for k,v in data.items():\n",
    "    print(\"\\n\" + k + \"\\n\")\n",
    "    print(v.head())"
   ]
  },
  {
   "cell_type": "code",
   "execution_count": 21,
   "metadata": {},
   "outputs": [
    {
     "ename": "AttributeError",
     "evalue": "'DataFrame' object has no attribute 'type'",
     "output_type": "error",
     "traceback": [
      "\u001b[1;31m---------------------------------------------------------------------------\u001b[0m",
      "\u001b[1;31mAttributeError\u001b[0m                            Traceback (most recent call last)",
      "\u001b[1;32m<ipython-input-21-c7c448e6bade>\u001b[0m in \u001b[0;36m<module>\u001b[1;34m\u001b[0m\n\u001b[1;32m----> 1\u001b[1;33m \u001b[0mdata\u001b[0m\u001b[1;33m[\u001b[0m\u001b[1;34m\"data\"\u001b[0m\u001b[1;33m]\u001b[0m\u001b[1;33m.\u001b[0m\u001b[0mtype\u001b[0m\u001b[1;33m(\u001b[0m\u001b[1;33m)\u001b[0m\u001b[1;33m\u001b[0m\u001b[1;33m\u001b[0m\u001b[0m\n\u001b[0m",
      "\u001b[1;32mC:\\ProgramData\\Anaconda3\\lib\\site-packages\\pandas\\core\\generic.py\u001b[0m in \u001b[0;36m__getattr__\u001b[1;34m(self, name)\u001b[0m\n\u001b[0;32m   4374\u001b[0m             \u001b[1;32mif\u001b[0m \u001b[0mself\u001b[0m\u001b[1;33m.\u001b[0m\u001b[0m_info_axis\u001b[0m\u001b[1;33m.\u001b[0m\u001b[0m_can_hold_identifiers_and_holds_name\u001b[0m\u001b[1;33m(\u001b[0m\u001b[0mname\u001b[0m\u001b[1;33m)\u001b[0m\u001b[1;33m:\u001b[0m\u001b[1;33m\u001b[0m\u001b[1;33m\u001b[0m\u001b[0m\n\u001b[0;32m   4375\u001b[0m                 \u001b[1;32mreturn\u001b[0m \u001b[0mself\u001b[0m\u001b[1;33m[\u001b[0m\u001b[0mname\u001b[0m\u001b[1;33m]\u001b[0m\u001b[1;33m\u001b[0m\u001b[1;33m\u001b[0m\u001b[0m\n\u001b[1;32m-> 4376\u001b[1;33m             \u001b[1;32mreturn\u001b[0m \u001b[0mobject\u001b[0m\u001b[1;33m.\u001b[0m\u001b[0m__getattribute__\u001b[0m\u001b[1;33m(\u001b[0m\u001b[0mself\u001b[0m\u001b[1;33m,\u001b[0m \u001b[0mname\u001b[0m\u001b[1;33m)\u001b[0m\u001b[1;33m\u001b[0m\u001b[1;33m\u001b[0m\u001b[0m\n\u001b[0m\u001b[0;32m   4377\u001b[0m \u001b[1;33m\u001b[0m\u001b[0m\n\u001b[0;32m   4378\u001b[0m     \u001b[1;32mdef\u001b[0m \u001b[0m__setattr__\u001b[0m\u001b[1;33m(\u001b[0m\u001b[0mself\u001b[0m\u001b[1;33m,\u001b[0m \u001b[0mname\u001b[0m\u001b[1;33m,\u001b[0m \u001b[0mvalue\u001b[0m\u001b[1;33m)\u001b[0m\u001b[1;33m:\u001b[0m\u001b[1;33m\u001b[0m\u001b[1;33m\u001b[0m\u001b[0m\n",
      "\u001b[1;31mAttributeError\u001b[0m: 'DataFrame' object has no attribute 'type'"
     ]
    }
   ],
   "source": [
    "data[\"data\"]()"
   ]
  }
 ],
 "metadata": {
  "kernelspec": {
   "display_name": "Python 3",
   "language": "python",
   "name": "python3"
  },
  "language_info": {
   "codemirror_mode": {
    "name": "ipython",
    "version": 3
   },
   "file_extension": ".py",
   "mimetype": "text/x-python",
   "name": "python",
   "nbconvert_exporter": "python",
   "pygments_lexer": "ipython3",
   "version": "3.7.1"
  }
 },
 "nbformat": 4,
 "nbformat_minor": 2
}
