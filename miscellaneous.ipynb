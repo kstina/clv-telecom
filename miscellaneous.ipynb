{
 "cells": [
  {
   "cell_type": "markdown",
   "metadata": {},
   "source": [
    "## virtualenv -\n",
    "tool to create isolated Python environments<br>\n",
    "An environment has its own installation directories<br>\n",
    "Doesn't share libraries with other virtualenv envorinments<br>\n",
    "Helps avoid problem of upgrading apps that aren't yet to be upgraded<br>\n",
    "Passing the entire virtualenv with those libraries that are needed for running it.<br>\n",
    "\n",
    "<br>\n",
    "1) installation <br>\n",
    "pip install virtualenv<br>\n",
    "virtualenv .venv #.venv is a standard name<br>\n",
    "\n",
    "2) locating the .venv folder and activating the virtual machine<br>\n",
    "dir (or ls .venv\\scripts\\activate<br>\n",
    "\n",
    "3) installing the libraries on the virtual machine\n",
    "pip install pandas\n",
    "pip install seaborn\n",
    "...\n",
    "\n",
    "4) documenting requirements for this virtual machine\n",
    "pip freeze > requirements.txt\n",
    "\n",
    "5) visualize requirements\n",
    "requirements.txt #opens the .txt file"
   ]
  },
  {
   "cell_type": "markdown",
   "metadata": {},
   "source": [
    "## Jupyter notebook structure"
   ]
  },
  {
   "cell_type": "code",
   "execution_count": 2,
   "metadata": {
    "collapsed": true
   },
   "outputs": [
    {
     "ename": "NameError",
     "evalue": "name 'df_raw' is not defined",
     "output_type": "error",
     "traceback": [
      "\u001b[1;31m---------------------------------------------------------------------------\u001b[0m",
      "\u001b[1;31mNameError\u001b[0m                                 Traceback (most recent call last)",
      "\u001b[1;32m<ipython-input-2-d7eac69ae499>\u001b[0m in \u001b[0;36m<module>\u001b[1;34m\u001b[0m\n\u001b[1;32m----> 1\u001b[1;33m \u001b[0mdf1\u001b[0m \u001b[1;33m=\u001b[0m \u001b[0mdf_raw\u001b[0m\u001b[1;33m\u001b[0m\u001b[1;33m\u001b[0m\u001b[0m\n\u001b[0m",
      "\u001b[1;31mNameError\u001b[0m: name 'df_raw' is not defined"
     ]
    }
   ],
   "source": [
    "# creating new dfs from previous ones on each step of the data cleanup:\n",
    "df1 = df_raw"
   ]
  },
  {
   "cell_type": "code",
   "execution_count": 3,
   "metadata": {
    "collapsed": true
   },
   "outputs": [
    {
     "ename": "NameError",
     "evalue": "name 'df_raw' is not defined",
     "output_type": "error",
     "traceback": [
      "\u001b[1;31m---------------------------------------------------------------------------\u001b[0m",
      "\u001b[1;31mNameError\u001b[0m                                 Traceback (most recent call last)",
      "\u001b[1;32m<ipython-input-3-411125c44dad>\u001b[0m in \u001b[0;36m<module>\u001b[1;34m\u001b[0m\n\u001b[0;32m      1\u001b[0m \u001b[1;31m# renaming columns (step 1.2 (1.1 in my notation), after importing  the data and before formatting data in columns: <br>\u001b[0m\u001b[1;33m\u001b[0m\u001b[1;33m\u001b[0m\u001b[1;33m\u001b[0m\u001b[0m\n\u001b[1;32m----> 2\u001b[1;33m \u001b[0mdf_raw\u001b[0m\u001b[1;33m.\u001b[0m\u001b[0mcolumns\u001b[0m \u001b[1;31m#consult column names\u001b[0m\u001b[1;33m\u001b[0m\u001b[1;33m\u001b[0m\u001b[0m\n\u001b[0m\u001b[0;32m      3\u001b[0m new_cols = ['column1_name',\n\u001b[0;32m      4\u001b[0m            \u001b[1;34m'column2_name'\u001b[0m\u001b[1;33m,\u001b[0m\u001b[1;33m\u001b[0m\u001b[1;33m\u001b[0m\u001b[0m\n\u001b[0;32m      5\u001b[0m            'column3_name']\n",
      "\u001b[1;31mNameError\u001b[0m: name 'df_raw' is not defined"
     ]
    }
   ],
   "source": [
    "# renaming columns (step 1.2 (1.1 in my notation), after importing  the data and before formatting data in columns: <br>\n",
    "df.columns #consult column names\n",
    "new_cols = ['column1_name',\n",
    "           'column2_name',\n",
    "           'column3_name']\n",
    "# rules: always lowercase, underscore between words, full words instead of abbreviations (?) \n",
    "df.columns = new_cols #rename columns"
   ]
  },
  {
   "cell_type": "code",
   "execution_count": 5,
   "metadata": {},
   "outputs": [
    {
     "ename": "NameError",
     "evalue": "name 'df' is not defined",
     "output_type": "error",
     "traceback": [
      "\u001b[1;31m---------------------------------------------------------------------------\u001b[0m",
      "\u001b[1;31mNameError\u001b[0m                                 Traceback (most recent call last)",
      "\u001b[1;32m<ipython-input-5-a5bbd61caf77>\u001b[0m in \u001b[0;36m<module>\u001b[1;34m\u001b[0m\n\u001b[0;32m      1\u001b[0m \u001b[1;31m# Split columns between categorical and numerical\u001b[0m\u001b[1;33m\u001b[0m\u001b[1;33m\u001b[0m\u001b[1;33m\u001b[0m\u001b[0m\n\u001b[1;32m----> 2\u001b[1;33m \u001b[0mnum_features\u001b[0m \u001b[1;33m=\u001b[0m \u001b[0mdf\u001b[0m\u001b[1;33m.\u001b[0m\u001b[0mselect_dtypes\u001b[0m\u001b[1;33m(\u001b[0m\u001b[0minclude\u001b[0m\u001b[1;33m=\u001b[0m\u001b[1;33m[\u001b[0m\u001b[1;34m'int64'\u001b[0m\u001b[1;33m,\u001b[0m \u001b[1;34m'float64'\u001b[0m\u001b[1;33m,\u001b[0m \u001b[1;34m'datetime64'\u001b[0m\u001b[1;33m]\u001b[0m\u001b[1;33m)\u001b[0m\u001b[1;33m\u001b[0m\u001b[1;33m\u001b[0m\u001b[0m\n\u001b[0m\u001b[0;32m      3\u001b[0m \u001b[0mcat_features\u001b[0m \u001b[1;33m=\u001b[0m \u001b[0mdf\u001b[0m\u001b[1;33m.\u001b[0m\u001b[0mselect_dtypes\u001b[0m\u001b[1;33m(\u001b[0m\u001b[0mexclude\u001b[0m\u001b[1;33m=\u001b[0m\u001b[1;33m[\u001b[0m\u001b[1;34m'int64'\u001b[0m\u001b[1;33m,\u001b[0m \u001b[1;34m'float64'\u001b[0m\u001b[1;33m,\u001b[0m \u001b[1;34m'datetime64'\u001b[0m\u001b[1;33m]\u001b[0m\u001b[1;33m)\u001b[0m\u001b[1;33m\u001b[0m\u001b[1;33m\u001b[0m\u001b[0m\n",
      "\u001b[1;31mNameError\u001b[0m: name 'df' is not defined"
     ]
    }
   ],
   "source": [
    "# Split columns between categorical and numerical\n",
    "num_features = df.select_dtypes(include=['int64', 'float64', 'datetime64'])\n",
    "cat_features = df.select_dtypes(exclude=['int64', 'float64', 'datetime64'])"
   ]
  },
  {
   "cell_type": "code",
   "execution_count": null,
   "metadata": {},
   "outputs": [],
   "source": [
    "# First filter rows, later columns!\n",
    "\n",
    "# Select only subset of data to work with\n",
    "## 1. Department Millennium == Apparel\n",
    "## 2. Product Classification == In House\n",
    "\n",
    "df2 = df1[(df1['department_millennium'] == 'apparel' ) &\n",
    "           #( df1['product_classification'] == 'in_house' ) &\n",
    "           ( df1['number_of_items_shipped'] > 0 ) ]\n",
    "# Remove MTK and DEM Orders\"\n",
    "df2 = df2[~df2['order_channel_code'].isin( ['MKT', 'DEM'] )]\n",
    "\n",
    "# Remove Duplicated\n",
    "#df2 = df1.drop_duplicates( subset='order_id' )"
   ]
  }
 ],
 "metadata": {
  "kernelspec": {
   "display_name": "Python 3",
   "language": "python",
   "name": "python3"
  },
  "language_info": {
   "codemirror_mode": {
    "name": "ipython",
    "version": 3
   },
   "file_extension": ".py",
   "mimetype": "text/x-python",
   "name": "python",
   "nbconvert_exporter": "python",
   "pygments_lexer": "ipython3",
   "version": "3.7.1"
  }
 },
 "nbformat": 4,
 "nbformat_minor": 2
}
